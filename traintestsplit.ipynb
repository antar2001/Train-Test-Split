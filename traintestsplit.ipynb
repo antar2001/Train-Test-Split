{
 "cells": [
  {
   "cell_type": "code",
   "execution_count": 1,
   "id": "16e1e796",
   "metadata": {
    "_cell_guid": "b1076dfc-b9ad-4769-8c92-a6c4dae69d19",
    "_uuid": "8f2839f25d086af736a60e9eeb907d3b93b6e0e5",
    "execution": {
     "iopub.execute_input": "2024-08-23T07:11:26.968987Z",
     "iopub.status.busy": "2024-08-23T07:11:26.968541Z",
     "iopub.status.idle": "2024-08-23T07:11:27.381239Z",
     "shell.execute_reply": "2024-08-23T07:11:27.379958Z"
    },
    "papermill": {
     "duration": 0.42148,
     "end_time": "2024-08-23T07:11:27.384218",
     "exception": false,
     "start_time": "2024-08-23T07:11:26.962738",
     "status": "completed"
    },
    "tags": []
   },
   "outputs": [],
   "source": [
    "# This Python 3 environment comes with many helpful analytics libraries installed\n",
    "# It is defined by the kaggle/python Docker image: https://github.com/kaggle/docker-python\n",
    "# For example, here's several helpful packages to load\n",
    "\n",
    "import numpy as np # linear algebra\n",
    "import pandas as pd # data processing, CSV file I/O (e.g. pd.read_csv)\n",
    "\n",
    "# Input data files are available in the read-only \"../input/\" directory\n",
    "# For example, running this (by clicking run or pressing Shift+Enter) will list all files under the input directory\n",
    "\n",
    "import os\n",
    "for dirname, _, filenames in os.walk('/kaggle/input'):\n",
    "    for filename in filenames:\n",
    "        print(os.path.join(dirname, filename))\n",
    "\n",
    "# You can write up to 20GB to the current directory (/kaggle/working/) that gets preserved as output when you create a version using \"Save & Run All\" \n",
    "# You can also write temporary files to /kaggle/temp/, but they won't be saved outside of the current session"
   ]
  },
  {
   "cell_type": "code",
   "execution_count": 2,
   "id": "dc7b6600",
   "metadata": {
    "execution": {
     "iopub.execute_input": "2024-08-23T07:11:27.395429Z",
     "iopub.status.busy": "2024-08-23T07:11:27.394862Z",
     "iopub.status.idle": "2024-08-23T07:11:28.988072Z",
     "shell.execute_reply": "2024-08-23T07:11:28.986877Z"
    },
    "papermill": {
     "duration": 1.601931,
     "end_time": "2024-08-23T07:11:28.990988",
     "exception": false,
     "start_time": "2024-08-23T07:11:27.389057",
     "status": "completed"
    },
    "tags": []
   },
   "outputs": [],
   "source": [
    "from sklearn.datasets import make_classification\n",
    "from sklearn.model_selection import train_test_split"
   ]
  },
  {
   "cell_type": "code",
   "execution_count": 3,
   "id": "027a0076",
   "metadata": {
    "execution": {
     "iopub.execute_input": "2024-08-23T07:11:29.000077Z",
     "iopub.status.busy": "2024-08-23T07:11:28.999435Z",
     "iopub.status.idle": "2024-08-23T07:11:29.014576Z",
     "shell.execute_reply": "2024-08-23T07:11:29.013444Z"
    },
    "papermill": {
     "duration": 0.022793,
     "end_time": "2024-08-23T07:11:29.017303",
     "exception": false,
     "start_time": "2024-08-23T07:11:28.994510",
     "status": "completed"
    },
    "tags": []
   },
   "outputs": [],
   "source": [
    "X,y=make_classification(n_samples=1000,n_features=10,n_classes=2,random_state=1)\n"
   ]
  },
  {
   "cell_type": "code",
   "execution_count": 4,
   "id": "43c1488a",
   "metadata": {
    "execution": {
     "iopub.execute_input": "2024-08-23T07:11:29.026037Z",
     "iopub.status.busy": "2024-08-23T07:11:29.025597Z",
     "iopub.status.idle": "2024-08-23T07:11:29.036311Z",
     "shell.execute_reply": "2024-08-23T07:11:29.035203Z"
    },
    "papermill": {
     "duration": 0.017857,
     "end_time": "2024-08-23T07:11:29.038594",
     "exception": false,
     "start_time": "2024-08-23T07:11:29.020737",
     "status": "completed"
    },
    "tags": []
   },
   "outputs": [
    {
     "data": {
      "text/plain": [
       "array([[-2.10118662, -0.24720775, -1.98933489, ...,  2.07052553,\n",
       "         0.09152688, -2.37639956],\n",
       "       [ 0.32370343, -0.12689445, -1.30952433, ...,  1.18481987,\n",
       "        -0.186802  ,  1.96932634],\n",
       "       [ 2.23203753,  0.33412256, -0.85270339, ..., -0.06644818,\n",
       "        -0.31388129,  1.49917393],\n",
       "       ...,\n",
       "       [-1.16966316,  0.2306405 , -2.71039374, ...,  0.02149968,\n",
       "        -1.06680089,  0.52886752],\n",
       "       [-2.64618249, -0.11784427,  0.14937733, ...,  0.34047267,\n",
       "        -0.27694042, -0.87101392],\n",
       "       [-4.07569534, -0.33130612, -0.11181622, ..., -0.4164757 ,\n",
       "         0.36444447, -0.534328  ]])"
      ]
     },
     "execution_count": 4,
     "metadata": {},
     "output_type": "execute_result"
    }
   ],
   "source": [
    "\n",
    "X\n"
   ]
  },
  {
   "cell_type": "code",
   "execution_count": 5,
   "id": "ce8b1482",
   "metadata": {
    "execution": {
     "iopub.execute_input": "2024-08-23T07:11:29.047878Z",
     "iopub.status.busy": "2024-08-23T07:11:29.047430Z",
     "iopub.status.idle": "2024-08-23T07:11:29.162979Z",
     "shell.execute_reply": "2024-08-23T07:11:29.161696Z"
    },
    "papermill": {
     "duration": 0.123371,
     "end_time": "2024-08-23T07:11:29.165688",
     "exception": false,
     "start_time": "2024-08-23T07:11:29.042317",
     "status": "completed"
    },
    "tags": []
   },
   "outputs": [
    {
     "data": {
      "text/html": [
       "<div>\n",
       "<style scoped>\n",
       "    .dataframe tbody tr th:only-of-type {\n",
       "        vertical-align: middle;\n",
       "    }\n",
       "\n",
       "    .dataframe tbody tr th {\n",
       "        vertical-align: top;\n",
       "    }\n",
       "\n",
       "    .dataframe thead th {\n",
       "        text-align: right;\n",
       "    }\n",
       "</style>\n",
       "<table border=\"1\" class=\"dataframe\">\n",
       "  <thead>\n",
       "    <tr style=\"text-align: right;\">\n",
       "      <th></th>\n",
       "      <th>0</th>\n",
       "      <th>1</th>\n",
       "      <th>2</th>\n",
       "      <th>3</th>\n",
       "      <th>4</th>\n",
       "      <th>5</th>\n",
       "      <th>6</th>\n",
       "      <th>7</th>\n",
       "      <th>8</th>\n",
       "      <th>9</th>\n",
       "    </tr>\n",
       "  </thead>\n",
       "  <tbody>\n",
       "    <tr>\n",
       "      <th>0</th>\n",
       "      <td>-2.101187</td>\n",
       "      <td>-0.247208</td>\n",
       "      <td>-1.989335</td>\n",
       "      <td>-1.484556</td>\n",
       "      <td>1.128668</td>\n",
       "      <td>-0.925564</td>\n",
       "      <td>1.210290</td>\n",
       "      <td>2.070526</td>\n",
       "      <td>0.091527</td>\n",
       "      <td>-2.376400</td>\n",
       "    </tr>\n",
       "    <tr>\n",
       "      <th>1</th>\n",
       "      <td>0.323703</td>\n",
       "      <td>-0.126894</td>\n",
       "      <td>-1.309524</td>\n",
       "      <td>-0.022738</td>\n",
       "      <td>-0.398725</td>\n",
       "      <td>0.280419</td>\n",
       "      <td>0.034598</td>\n",
       "      <td>1.184820</td>\n",
       "      <td>-0.186802</td>\n",
       "      <td>1.969326</td>\n",
       "    </tr>\n",
       "    <tr>\n",
       "      <th>2</th>\n",
       "      <td>2.232038</td>\n",
       "      <td>0.334123</td>\n",
       "      <td>-0.852703</td>\n",
       "      <td>3.289016</td>\n",
       "      <td>0.331944</td>\n",
       "      <td>0.044767</td>\n",
       "      <td>-2.233844</td>\n",
       "      <td>-0.066448</td>\n",
       "      <td>-0.313881</td>\n",
       "      <td>1.499174</td>\n",
       "    </tr>\n",
       "    <tr>\n",
       "      <th>3</th>\n",
       "      <td>-0.428456</td>\n",
       "      <td>1.627132</td>\n",
       "      <td>0.484649</td>\n",
       "      <td>0.938373</td>\n",
       "      <td>1.339947</td>\n",
       "      <td>-0.869036</td>\n",
       "      <td>0.943132</td>\n",
       "      <td>0.713558</td>\n",
       "      <td>-0.468041</td>\n",
       "      <td>0.075341</td>\n",
       "    </tr>\n",
       "    <tr>\n",
       "      <th>4</th>\n",
       "      <td>0.386012</td>\n",
       "      <td>0.338141</td>\n",
       "      <td>-0.186530</td>\n",
       "      <td>2.369137</td>\n",
       "      <td>1.667284</td>\n",
       "      <td>-0.979107</td>\n",
       "      <td>0.951526</td>\n",
       "      <td>0.398790</td>\n",
       "      <td>0.729005</td>\n",
       "      <td>0.372213</td>\n",
       "    </tr>\n",
       "    <tr>\n",
       "      <th>...</th>\n",
       "      <td>...</td>\n",
       "      <td>...</td>\n",
       "      <td>...</td>\n",
       "      <td>...</td>\n",
       "      <td>...</td>\n",
       "      <td>...</td>\n",
       "      <td>...</td>\n",
       "      <td>...</td>\n",
       "      <td>...</td>\n",
       "      <td>...</td>\n",
       "    </tr>\n",
       "    <tr>\n",
       "      <th>995</th>\n",
       "      <td>-1.148812</td>\n",
       "      <td>-0.048464</td>\n",
       "      <td>0.555170</td>\n",
       "      <td>-2.167311</td>\n",
       "      <td>-0.595136</td>\n",
       "      <td>0.237045</td>\n",
       "      <td>-1.241394</td>\n",
       "      <td>-0.144619</td>\n",
       "      <td>-0.136638</td>\n",
       "      <td>-1.363868</td>\n",
       "    </tr>\n",
       "    <tr>\n",
       "      <th>996</th>\n",
       "      <td>1.585814</td>\n",
       "      <td>1.269868</td>\n",
       "      <td>1.193456</td>\n",
       "      <td>2.321360</td>\n",
       "      <td>0.222056</td>\n",
       "      <td>0.040255</td>\n",
       "      <td>2.260748</td>\n",
       "      <td>-0.182916</td>\n",
       "      <td>-0.959332</td>\n",
       "      <td>0.263967</td>\n",
       "    </tr>\n",
       "    <tr>\n",
       "      <th>997</th>\n",
       "      <td>-1.169663</td>\n",
       "      <td>0.230641</td>\n",
       "      <td>-2.710394</td>\n",
       "      <td>-3.217224</td>\n",
       "      <td>-1.509607</td>\n",
       "      <td>0.795293</td>\n",
       "      <td>-0.854581</td>\n",
       "      <td>0.021500</td>\n",
       "      <td>-1.066801</td>\n",
       "      <td>0.528868</td>\n",
       "    </tr>\n",
       "    <tr>\n",
       "      <th>998</th>\n",
       "      <td>-2.646182</td>\n",
       "      <td>-0.117844</td>\n",
       "      <td>0.149377</td>\n",
       "      <td>-0.377960</td>\n",
       "      <td>2.755272</td>\n",
       "      <td>-1.983281</td>\n",
       "      <td>-1.865016</td>\n",
       "      <td>0.340473</td>\n",
       "      <td>-0.276940</td>\n",
       "      <td>-0.871014</td>\n",
       "    </tr>\n",
       "    <tr>\n",
       "      <th>999</th>\n",
       "      <td>-4.075695</td>\n",
       "      <td>-0.331306</td>\n",
       "      <td>-0.111816</td>\n",
       "      <td>-2.867222</td>\n",
       "      <td>2.200368</td>\n",
       "      <td>-1.802118</td>\n",
       "      <td>-1.288487</td>\n",
       "      <td>-0.416476</td>\n",
       "      <td>0.364444</td>\n",
       "      <td>-0.534328</td>\n",
       "    </tr>\n",
       "  </tbody>\n",
       "</table>\n",
       "<p>1000 rows × 10 columns</p>\n",
       "</div>"
      ],
      "text/plain": [
       "            0         1         2         3         4         5         6  \\\n",
       "0   -2.101187 -0.247208 -1.989335 -1.484556  1.128668 -0.925564  1.210290   \n",
       "1    0.323703 -0.126894 -1.309524 -0.022738 -0.398725  0.280419  0.034598   \n",
       "2    2.232038  0.334123 -0.852703  3.289016  0.331944  0.044767 -2.233844   \n",
       "3   -0.428456  1.627132  0.484649  0.938373  1.339947 -0.869036  0.943132   \n",
       "4    0.386012  0.338141 -0.186530  2.369137  1.667284 -0.979107  0.951526   \n",
       "..        ...       ...       ...       ...       ...       ...       ...   \n",
       "995 -1.148812 -0.048464  0.555170 -2.167311 -0.595136  0.237045 -1.241394   \n",
       "996  1.585814  1.269868  1.193456  2.321360  0.222056  0.040255  2.260748   \n",
       "997 -1.169663  0.230641 -2.710394 -3.217224 -1.509607  0.795293 -0.854581   \n",
       "998 -2.646182 -0.117844  0.149377 -0.377960  2.755272 -1.983281 -1.865016   \n",
       "999 -4.075695 -0.331306 -0.111816 -2.867222  2.200368 -1.802118 -1.288487   \n",
       "\n",
       "            7         8         9  \n",
       "0    2.070526  0.091527 -2.376400  \n",
       "1    1.184820 -0.186802  1.969326  \n",
       "2   -0.066448 -0.313881  1.499174  \n",
       "3    0.713558 -0.468041  0.075341  \n",
       "4    0.398790  0.729005  0.372213  \n",
       "..        ...       ...       ...  \n",
       "995 -0.144619 -0.136638 -1.363868  \n",
       "996 -0.182916 -0.959332  0.263967  \n",
       "997  0.021500 -1.066801  0.528868  \n",
       "998  0.340473 -0.276940 -0.871014  \n",
       "999 -0.416476  0.364444 -0.534328  \n",
       "\n",
       "[1000 rows x 10 columns]"
      ]
     },
     "execution_count": 5,
     "metadata": {},
     "output_type": "execute_result"
    }
   ],
   "source": [
    "pd.DataFrame(X)\n"
   ]
  },
  {
   "cell_type": "code",
   "execution_count": 6,
   "id": "dbae75ef",
   "metadata": {
    "execution": {
     "iopub.execute_input": "2024-08-23T07:11:29.175550Z",
     "iopub.status.busy": "2024-08-23T07:11:29.175161Z",
     "iopub.status.idle": "2024-08-23T07:11:29.181817Z",
     "shell.execute_reply": "2024-08-23T07:11:29.180886Z"
    },
    "papermill": {
     "duration": 0.014146,
     "end_time": "2024-08-23T07:11:29.184059",
     "exception": false,
     "start_time": "2024-08-23T07:11:29.169913",
     "status": "completed"
    },
    "tags": []
   },
   "outputs": [],
   "source": [
    "X_train,X_test,y_train,y_test = train_test_split(X,y,test_size=0.30,random_state=42)"
   ]
  },
  {
   "cell_type": "code",
   "execution_count": 7,
   "id": "eb2088dc",
   "metadata": {
    "execution": {
     "iopub.execute_input": "2024-08-23T07:11:29.193877Z",
     "iopub.status.busy": "2024-08-23T07:11:29.193414Z",
     "iopub.status.idle": "2024-08-23T07:11:29.200908Z",
     "shell.execute_reply": "2024-08-23T07:11:29.199684Z"
    },
    "papermill": {
     "duration": 0.014922,
     "end_time": "2024-08-23T07:11:29.203159",
     "exception": false,
     "start_time": "2024-08-23T07:11:29.188237",
     "status": "completed"
    },
    "tags": []
   },
   "outputs": [
    {
     "data": {
      "text/plain": [
       "(700, 10)"
      ]
     },
     "execution_count": 7,
     "metadata": {},
     "output_type": "execute_result"
    }
   ],
   "source": [
    "X_train.shape"
   ]
  },
  {
   "cell_type": "code",
   "execution_count": 8,
   "id": "90320acc",
   "metadata": {
    "execution": {
     "iopub.execute_input": "2024-08-23T07:11:29.212975Z",
     "iopub.status.busy": "2024-08-23T07:11:29.212536Z",
     "iopub.status.idle": "2024-08-23T07:11:29.219559Z",
     "shell.execute_reply": "2024-08-23T07:11:29.218295Z"
    },
    "papermill": {
     "duration": 0.014679,
     "end_time": "2024-08-23T07:11:29.221872",
     "exception": false,
     "start_time": "2024-08-23T07:11:29.207193",
     "status": "completed"
    },
    "tags": []
   },
   "outputs": [
    {
     "data": {
      "text/plain": [
       "(300, 10)"
      ]
     },
     "execution_count": 8,
     "metadata": {},
     "output_type": "execute_result"
    }
   ],
   "source": [
    "X_test.shape"
   ]
  },
  {
   "cell_type": "code",
   "execution_count": 9,
   "id": "aa6afb2c",
   "metadata": {
    "execution": {
     "iopub.execute_input": "2024-08-23T07:11:29.231910Z",
     "iopub.status.busy": "2024-08-23T07:11:29.231481Z",
     "iopub.status.idle": "2024-08-23T07:11:29.238133Z",
     "shell.execute_reply": "2024-08-23T07:11:29.237070Z"
    },
    "papermill": {
     "duration": 0.014318,
     "end_time": "2024-08-23T07:11:29.240427",
     "exception": false,
     "start_time": "2024-08-23T07:11:29.226109",
     "status": "completed"
    },
    "tags": []
   },
   "outputs": [
    {
     "data": {
      "text/plain": [
       "(700,)"
      ]
     },
     "execution_count": 9,
     "metadata": {},
     "output_type": "execute_result"
    }
   ],
   "source": [
    "y_train.shape"
   ]
  },
  {
   "cell_type": "code",
   "execution_count": 10,
   "id": "ffcb8820",
   "metadata": {
    "execution": {
     "iopub.execute_input": "2024-08-23T07:11:29.250990Z",
     "iopub.status.busy": "2024-08-23T07:11:29.250460Z",
     "iopub.status.idle": "2024-08-23T07:11:29.257751Z",
     "shell.execute_reply": "2024-08-23T07:11:29.256596Z"
    },
    "papermill": {
     "duration": 0.015421,
     "end_time": "2024-08-23T07:11:29.260237",
     "exception": false,
     "start_time": "2024-08-23T07:11:29.244816",
     "status": "completed"
    },
    "tags": []
   },
   "outputs": [
    {
     "data": {
      "text/plain": [
       "(300,)"
      ]
     },
     "execution_count": 10,
     "metadata": {},
     "output_type": "execute_result"
    }
   ],
   "source": [
    "y_test.shape"
   ]
  },
  {
   "cell_type": "code",
   "execution_count": null,
   "id": "37e1b2c2",
   "metadata": {
    "papermill": {
     "duration": 0.004072,
     "end_time": "2024-08-23T07:11:29.268795",
     "exception": false,
     "start_time": "2024-08-23T07:11:29.264723",
     "status": "completed"
    },
    "tags": []
   },
   "outputs": [],
   "source": []
  }
 ],
 "metadata": {
  "kaggle": {
   "accelerator": "none",
   "dataSources": [],
   "dockerImageVersionId": 30761,
   "isGpuEnabled": false,
   "isInternetEnabled": false,
   "language": "python",
   "sourceType": "notebook"
  },
  "kernelspec": {
   "display_name": "Python 3",
   "language": "python",
   "name": "python3"
  },
  "language_info": {
   "codemirror_mode": {
    "name": "ipython",
    "version": 3
   },
   "file_extension": ".py",
   "mimetype": "text/x-python",
   "name": "python",
   "nbconvert_exporter": "python",
   "pygments_lexer": "ipython3",
   "version": "3.10.14"
  },
  "papermill": {
   "default_parameters": {},
   "duration": 5.740358,
   "end_time": "2024-08-23T07:11:29.895331",
   "environment_variables": {},
   "exception": null,
   "input_path": "__notebook__.ipynb",
   "output_path": "__notebook__.ipynb",
   "parameters": {},
   "start_time": "2024-08-23T07:11:24.154973",
   "version": "2.6.0"
  }
 },
 "nbformat": 4,
 "nbformat_minor": 5
}
